{
 "cells": [
  {
   "cell_type": "markdown",
   "metadata": {},
   "source": [
    "# データ解析演習　第1回課題\n",
    "- 一つ下の MarkDown ブロックに学籍番号と氏名を記述する\n",
    "- Shift + Return あるいは 実行マーク (run cell) で確定させる\n",
    "- 確定済みの MarkDown ブロックをダブルクリックすると編集可能に"
   ]
  },
  {
   "cell_type": "markdown",
   "metadata": {},
   "source": [
    "** 学籍番号 **\n",
    "J2XXYYY\n",
    "\n",
    "** 氏名 **\n",
    "XX YY"
   ]
  },
  {
   "cell_type": "markdown",
   "metadata": {},
   "source": [
    "- 最後の2つのブロックの「考察」と「質問・感想」を記入して保存．\n",
    "- http://lec2017.tk2lab.org/データ解析論 から提出すること．"
   ]
  },
  {
   "cell_type": "markdown",
   "metadata": {},
   "source": [
    "## 基本\n",
    "- ブロックの種類をプルダウンにある「Markdown」と「Code」で切り替えることができる．\n",
    " - Markdown\n",
    "   - マークダウン記法で章や段落のタイトル，箇条書き，強調などを記述できる\n",
    "     - 詳細は help をあるいは web で「マークダウン記法」を検索する\n",
    "       - 今日のところは文章をかければ OK\n",
    " - Code\n",
    "   - Python のコードを記述できる\n",
    "     - 左に In [ ]: が表示され，実行すると [] に実行した順番が表示される\n",
    "     - ブロックの位置と無関係に実行した順に評価される\n",
    "     - 書き換えてもう一度実行した場合，2度実行したのと同様"
   ]
  },
  {
   "cell_type": "markdown",
   "metadata": {},
   "source": [
    "## 数値，文字列，print\n",
    "- 数値や文字列はそのまま評価される\n",
    "- 最後に計算した結果が Out[　] に表示される\n",
    "　　- 変数の値を確認する時に利用\n",
    "- プログラム中の表示には print 関数を利用する\n",
    "\n",
    "## オブジェクト指向\n",
    "- 代入は右辺の実体(object)に名前をつけているだけ\n",
    "- C 言語とはだいぶ違う，Javaの\"参照\"と同じだが型は指定する必要がない\n",
    "\n",
    "** 以下の Code ブロックを順番に実行すること **"
   ]
  },
  {
   "cell_type": "code",
   "execution_count": null,
   "metadata": {
    "ExecuteTime": {
     "end_time": "2017-04-05T02:59:10.015991",
     "start_time": "2017-04-05T02:59:10.002173"
    },
    "collapsed": false
   },
   "outputs": [],
   "source": [
    "123.0"
   ]
  },
  {
   "cell_type": "code",
   "execution_count": null,
   "metadata": {
    "ExecuteTime": {
     "end_time": "2017-04-05T02:59:11.396996",
     "start_time": "2017-04-05T02:59:11.390835"
    },
    "collapsed": false
   },
   "outputs": [],
   "source": [
    "'データ解析演習'"
   ]
  },
  {
   "cell_type": "code",
   "execution_count": null,
   "metadata": {
    "ExecuteTime": {
     "end_time": "2017-04-05T02:59:12.513552",
     "start_time": "2017-04-05T02:59:12.509127"
    },
    "collapsed": false
   },
   "outputs": [],
   "source": [
    "x = 12.3 * 5.6\n",
    "y = 'テスト'"
   ]
  },
  {
   "cell_type": "code",
   "execution_count": null,
   "metadata": {
    "ExecuteTime": {
     "end_time": "2017-04-05T02:59:14.176173",
     "start_time": "2017-04-05T02:59:14.170022"
    },
    "collapsed": false
   },
   "outputs": [],
   "source": [
    "x = 12.3 * 5.6\n",
    "x"
   ]
  },
  {
   "cell_type": "code",
   "execution_count": null,
   "metadata": {
    "ExecuteTime": {
     "end_time": "2017-04-05T02:59:18.627528",
     "start_time": "2017-04-05T02:59:18.621681"
    },
    "collapsed": false
   },
   "outputs": [],
   "source": [
    "print(x)\n",
    "print(y)"
   ]
  },
  {
   "cell_type": "markdown",
   "metadata": {
    "collapsed": false
   },
   "source": [
    "## CSV ファイルの読み込み\n",
    "1. 最初に csv ファイルの内容をテキストエディタで確認する\n",
    "1. エクセルで開いてみる\n",
    "1. Jupyter 上で読み込んで見る\n",
    "\n",
    "\n",
    "- pandas ライブラリを利用するために import を行う\n",
    "  - C 言語の include のような物\n",
    "- csv ファイルの読み込みには pandas ライブラリの read_csv 関数を使う\n",
    "  - read_csv は DataFrame という形式で読み込んだ結果を返す\n",
    "- 結果を変数 data に代入する"
   ]
  },
  {
   "cell_type": "code",
   "execution_count": null,
   "metadata": {
    "ExecuteTime": {
     "end_time": "2017-04-12T10:38:32.889512",
     "start_time": "2017-04-12T10:38:32.625070"
    },
    "collapsed": false
   },
   "outputs": [],
   "source": [
    "import pandas\n",
    "data = pandas.read_csv('IRIS.csv')"
   ]
  },
  {
   "cell_type": "markdown",
   "metadata": {},
   "source": [
    "## データの表示\n",
    "- data と打つと変数の中身が確認出来る\n",
    "  - 大きいデータだと途中が省略されるがそれでも出力が多いので注意\n",
    "- data.head() で先頭の一部だけ表示できる\n",
    "- print(data.head()) と data.head() の違いを確認する"
   ]
  },
  {
   "cell_type": "code",
   "execution_count": null,
   "metadata": {
    "ExecuteTime": {
     "end_time": "2017-04-05T03:06:57.491592",
     "start_time": "2017-04-05T03:06:57.478336"
    },
    "collapsed": false
   },
   "outputs": [],
   "source": [
    "data.head()"
   ]
  },
  {
   "cell_type": "code",
   "execution_count": null,
   "metadata": {
    "collapsed": false
   },
   "outputs": [],
   "source": [
    "print(data.head())"
   ]
  },
  {
   "cell_type": "markdown",
   "metadata": {},
   "source": [
    "## データの説明（Fishar's Iris Data Set）\n",
    "\n",
    "This is perhaps the best known database to be found in the pattern recognition literature. Fisher's paper is a classic in the field and is referenced frequently to this day. (See Duda & Hart, for example.) The data set contains 3 classes of 50 instances each, where each class refers to a type of iris plant. One class is linearly separable from the other 2; the latter are NOT linearly separable from each other. \n",
    "\n",
    "1. sepal length in cm \n",
    "2. sepal width in cm \n",
    "3. petal length in cm \n",
    "4. petal width in cm \n",
    "5. class: \n",
    "-- Iris Setosa \n",
    "-- Iris Versicolour \n",
    "-- Iris Virginica\n",
    "\n",
    "This is a copy of UCI ML housing dataset.\n",
    "https://archive.ics.uci.edu/ml/datasets/Iris\n",
    "\n",
    "\n",
    "Fisher,R.A. \"The use of multiple measurements in taxonomic problems\" Annual Eugenics, 7, Part II, 179-188 (1936); also in \"Contributions to Mathematical Statistics\" (John Wiley, NY, 1950).\n",
    "Lichman, M. (2013). UCI Machine Learning Repository [http://archive.ics.uci.edu/ml]. Irvine, CA: University of California, School of Information and Computer Science."
   ]
  },
  {
   "cell_type": "markdown",
   "metadata": {},
   "source": [
    "## グラフの表示\n",
    "### 準備\n",
    "- グラフを表示するために %matplotlib inline を実行する\n",
    "  - ファイルなど外部に出力するのではなく埋め込み (inline) で表示する指定\n",
    "- ライブラリとして seaborn (https://seaborn.pydata.org/) を利用する\n",
    "  - seaborn.XXX と毎回打つのは面倒なので as sns として別名をつける\n",
    "- seaborn package には様々なプロットを行う関数が用意されている\n",
    "  - 利用できる関数の一覧　(API) が https://seaborn.pydata.org/api.html にある\n",
    "  - 下記の例について API を確認してみること"
   ]
  },
  {
   "cell_type": "code",
   "execution_count": null,
   "metadata": {
    "ExecuteTime": {
     "end_time": "2017-04-12T10:46:42.023296",
     "start_time": "2017-04-12T10:46:42.017875"
    },
    "collapsed": false
   },
   "outputs": [],
   "source": [
    "%matplotlib inline\n",
    "import seaborn as sns"
   ]
  },
  {
   "cell_type": "markdown",
   "metadata": {},
   "source": [
    "### distplot\n",
    "- https://seaborn.pydata.org/generated/seaborn.distplot.html#seaborn.distplot\n",
    "  - 1次元のデータについてヒストグラムなどを表示する\n",
    "  - 引数は1次元のデータ\n",
    "- DataFrame からの列の取り出し\n",
    "  - pandas の data (DataFrame) では data[NAME] の形式で列を取り出せる"
   ]
  },
  {
   "cell_type": "code",
   "execution_count": null,
   "metadata": {
    "ExecuteTime": {
     "end_time": "2017-04-12T10:42:33.323857",
     "start_time": "2017-04-12T10:42:33.119774"
    },
    "collapsed": false
   },
   "outputs": [],
   "source": [
    "sns.distplot(data['SepalLength'])"
   ]
  },
  {
   "cell_type": "markdown",
   "metadata": {},
   "source": [
    "### jointplot\n",
    "- https://seaborn.pydata.org/generated/seaborn.jointplot.html\n",
    "  - 2次元のデータについてヒストグラムなどを表示する\n",
    "  - 引数 x= に x 軸に使う列の名前\n",
    "  - 引数 y= に y 軸に使う列の名前\n",
    "  - 引数 data= に利用する DataFrame を指定する\n",
    "- Python では C 言語のような位置による引数指定以外に，引数名による指定ができ，省略可能な引数もある"
   ]
  },
  {
   "cell_type": "code",
   "execution_count": null,
   "metadata": {
    "ExecuteTime": {
     "end_time": "2017-04-12T11:00:31.442272",
     "start_time": "2017-04-12T11:00:31.066908"
    },
    "collapsed": false
   },
   "outputs": [],
   "source": [
    "sns.jointplot(x='SepalLength', y='SepalWidth', data=data)"
   ]
  },
  {
   "cell_type": "markdown",
   "metadata": {},
   "source": [
    "### pairplot\n",
    "- https://seaborn.pydata.org/generated/seaborn.pairplot.html\n",
    "  - 数値データである列について全ての組み合わせの散布図を表示\n",
    "  - 第1引数は DataFrame\n",
    "  - hue= とすると列の内容によって色を変えることができる"
   ]
  },
  {
   "cell_type": "code",
   "execution_count": null,
   "metadata": {
    "ExecuteTime": {
     "end_time": "2017-04-12T10:57:41.480511",
     "start_time": "2017-04-12T10:57:39.523028"
    },
    "collapsed": false,
    "scrolled": false
   },
   "outputs": [],
   "source": [
    "sns.pairplot(data)"
   ]
  },
  {
   "cell_type": "code",
   "execution_count": null,
   "metadata": {
    "ExecuteTime": {
     "end_time": "2017-04-12T10:59:17.094043",
     "start_time": "2017-04-12T10:59:14.310097"
    },
    "collapsed": false
   },
   "outputs": [],
   "source": [
    "sns.pairplot(data, hue='Name')"
   ]
  },
  {
   "cell_type": "markdown",
   "metadata": {},
   "source": [
    "### factorplot と boxplot\n",
    "- https://seaborn.pydata.org/generated/seaborn.factorplot.html\n",
    "  - 横軸にカテゴリデータを指定するとカテゴリごとの平均とエラーバーを表示する\n",
    "- https://seaborn.pydata.org/generated/seaborn.boxplot.html\n",
    "  - 横軸にカテゴリデータを指定するとカテゴリごとの boxplot を表示する"
   ]
  },
  {
   "cell_type": "code",
   "execution_count": null,
   "metadata": {
    "ExecuteTime": {
     "end_time": "2017-04-12T11:00:45.229917",
     "start_time": "2017-04-12T11:00:45.045873"
    },
    "collapsed": false
   },
   "outputs": [],
   "source": [
    "sns.factorplot(x='Name', y='SepalLength', data=data)"
   ]
  },
  {
   "cell_type": "code",
   "execution_count": null,
   "metadata": {
    "ExecuteTime": {
     "end_time": "2017-04-12T11:00:53.965444",
     "start_time": "2017-04-12T11:00:53.805703"
    },
    "collapsed": false
   },
   "outputs": [],
   "source": [
    "sns.boxplot(x='Name', y='SepalLength', data=data)"
   ]
  },
  {
   "cell_type": "markdown",
   "metadata": {},
   "source": [
    "### 演習\n",
    "上記の例と API のページを参考に様々なグラフを作成せよ\n",
    "- '+' ボタンでブロックを追加することができる\n",
    "- 列の名前を変えてみる\n",
    "- API で使われている option を追加してみる"
   ]
  },
  {
   "cell_type": "code",
   "execution_count": null,
   "metadata": {
    "collapsed": true
   },
   "outputs": [],
   "source": []
  },
  {
   "cell_type": "markdown",
   "metadata": {},
   "source": [
    "## 統計計算\n",
    "DataFrame に対して，統計量を簡単に計算することができる．\n",
    "- 平均 mean\n",
    "- 分散／共分散 cov\n",
    "- 相関係数 corr"
   ]
  },
  {
   "cell_type": "code",
   "execution_count": null,
   "metadata": {
    "ExecuteTime": {
     "end_time": "2017-04-05T04:02:19.433748",
     "start_time": "2017-04-05T04:02:19.418423"
    },
    "collapsed": false
   },
   "outputs": [],
   "source": [
    "data.mean()"
   ]
  },
  {
   "cell_type": "code",
   "execution_count": null,
   "metadata": {
    "ExecuteTime": {
     "end_time": "2017-04-05T04:02:21.818861",
     "start_time": "2017-04-05T04:02:21.759286"
    },
    "collapsed": false
   },
   "outputs": [],
   "source": [
    "data.cov()"
   ]
  },
  {
   "cell_type": "code",
   "execution_count": null,
   "metadata": {
    "ExecuteTime": {
     "end_time": "2017-04-05T04:02:26.390279",
     "start_time": "2017-04-05T04:02:26.355842"
    },
    "collapsed": false
   },
   "outputs": [],
   "source": [
    "data.corr()"
   ]
  },
  {
   "cell_type": "markdown",
   "metadata": {
    "collapsed": true
   },
   "source": [
    "## 考察\n",
    "- 表示したグラフからどのようなことが読みとれるか\n",
    "  - 種類毎の特徴\n",
    "  - Length と Width の関係\n",
    "  - など\n",
    "- 種類のわからないアヤメのサイズを測った場合に，それがどのアヤメかを見分けるにはどのようにすれば良いか考察せよ．"
   ]
  },
  {
   "cell_type": "markdown",
   "metadata": {},
   "source": [
    "ここに記入\n",
    "MarkDown で記述して　shift+Enter で確定"
   ]
  },
  {
   "cell_type": "markdown",
   "metadata": {},
   "source": [
    "## 感想・質問"
   ]
  },
  {
   "cell_type": "markdown",
   "metadata": {},
   "source": [
    "ここに記入\n",
    "MarkDown で記述して　shift+Enter で確定"
   ]
  }
 ],
 "metadata": {
  "kernelspec": {
   "display_name": "Python [Root]",
   "language": "python",
   "name": "Python [Root]"
  },
  "language_info": {
   "codemirror_mode": {
    "name": "ipython",
    "version": 2
   },
   "file_extension": ".py",
   "mimetype": "text/x-python",
   "name": "python",
   "nbconvert_exporter": "python",
   "pygments_lexer": "ipython2",
   "version": "2.7.12"
  },
  "latex_envs": {
   "bibliofile": "biblio.bib",
   "cite_by": "apalike",
   "current_citInitial": 1,
   "eqLabelWithNumbers": true,
   "eqNumInitial": 0
  },
  "toc": {
   "nav_menu": {
    "height": "207px",
    "width": "252px"
   },
   "navigate_menu": true,
   "number_sections": true,
   "sideBar": true,
   "threshold": 4,
   "toc_cell": false,
   "toc_section_display": "block",
   "toc_window_display": false
  }
 },
 "nbformat": 4,
 "nbformat_minor": 0
}
